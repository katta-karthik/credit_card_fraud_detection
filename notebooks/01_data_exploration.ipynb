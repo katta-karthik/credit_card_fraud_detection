{
 "cells": [
  {
   "cell_type": "markdown",
   "id": "e4ea2539",
   "metadata": {},
   "source": [
    "# Credit Card Fraud Detection - Data Exploration\n",
    "\n",
    "This notebook provides comprehensive exploratory data analysis (EDA) for the Online Payments Fraud Detection dataset from Kaggle.\n",
    "\n",
    "## Dataset Information\n",
    "- **Source**: Kaggle - Online Payments Fraud Detection Dataset\n",
    "- **Objective**: Detect fraudulent transactions using machine learning\n",
    "- **Challenge**: Highly imbalanced dataset with fraud cases being minority class"
   ]
  },
  {
   "cell_type": "code",
   "execution_count": null,
   "id": "cf6f472c",
   "metadata": {},
   "outputs": [
    {
     "name": "stdout",
     "output_type": "stream",
     "text": [
      "Libraries imported successfully\n"
     ]
    },
    {
     "ename": "",
     "evalue": "",
     "output_type": "error",
     "traceback": [
      "\u001b[1;31mThe Kernel crashed while executing code in the current cell or a previous cell. \n",
      "\u001b[1;31mPlease review the code in the cell(s) to identify a possible cause of the failure. \n",
      "\u001b[1;31mClick <a href='https://aka.ms/vscodeJupyterKernelCrash'>here</a> for more info. \n",
      "\u001b[1;31mView Jupyter <a href='command:jupyter.viewOutput'>log</a> for further details."
     ]
    }
   ],
   "source": [
    "# Import Required Libraries\n",
    "import pandas as pd\n",
    "import numpy as np\n",
    "import matplotlib.pyplot as plt\n",
    "import seaborn as sns\n",
    "import warnings\n",
    "from pathlib import Path\n",
    "\n",
    "# Settings\n",
    "warnings.filterwarnings('ignore')\n",
    "plt.style.use('default')\n",
    "sns.set_palette(\"husl\")\n",
    "plt.rcParams['figure.figsize'] = (12, 6)\n",
    "\n",
    "print(\"Libraries imported successfully\")"
   ]
  },
  {
   "cell_type": "markdown",
   "id": "f4f5edc8",
   "metadata": {},
   "source": [
    "## Load Dataset\n",
    "\n",
    "**Note**: Please download the dataset from Kaggle and place it in the `data/raw/` directory."
   ]
  },
  {
   "cell_type": "code",
   "execution_count": null,
   "id": "2a21098b",
   "metadata": {},
   "outputs": [],
   "source": [
    "# Load the dataset\n",
    "try:\n",
    "    data_path = \"../data/raw/PS_20174392719_1491204439457_log.csv\"\n",
    "    df = pd.read_csv(data_path)\n",
    "    print(f\"Dataset loaded successfully from {data_path}\")\n",
    "    print(f\"Shape: {df.shape}\")\n",
    "except FileNotFoundError:\n",
    "    print(\"Dataset file not found!\")\n",
    "    print(\"Please download the dataset from Kaggle and place it in '../data/raw/'\")\n",
    "    \n",
    "    # Create sample data for demonstration\n",
    "    print(\"Creating sample data for demonstration...\")\n",
    "    np.random.seed(42)\n",
    "    n_samples = 10000\n",
    "    \n",
    "    sample_data = {\n",
    "        'step': np.random.randint(1, 744, n_samples),\n",
    "        'type': np.random.choice(['CASH_OUT', 'PAYMENT', 'CASH_IN', 'TRANSFER', 'DEBIT'], n_samples),\n",
    "        'amount': np.random.exponential(100, n_samples),\n",
    "        'nameOrig': [f'C{i}' for i in range(n_samples)],\n",
    "        'oldbalanceOrg': np.random.exponential(1000, n_samples),\n",
    "        'newbalanceOrig': np.random.exponential(1000, n_samples),\n",
    "        'nameDest': [f'M{i}' for i in range(n_samples)],\n",
    "        'oldbalanceDest': np.random.exponential(1000, n_samples),\n",
    "        'newbalanceDest': np.random.exponential(1000, n_samples),\n",
    "        'isFraud': np.random.choice([0, 1], n_samples, p=[0.998, 0.002])\n",
    "    }\n",
    "    \n",
    "    df = pd.DataFrame(sample_data)\n",
    "    print(f\"Sample data created with shape: {df.shape}\")"
   ]
  },
  {
   "cell_type": "markdown",
   "id": "19946287",
   "metadata": {},
   "source": [
    "## Dataset Overview"
   ]
  },
  {
   "cell_type": "code",
   "execution_count": null,
   "id": "c871f366",
   "metadata": {},
   "outputs": [],
   "source": [
    "# Basic dataset information\n",
    "print(\"Dataset Info:\")\n",
    "print(f\"Shape: {df.shape}\")\n",
    "print(f\"\\nColumn names: {list(df.columns)}\")\n",
    "print(f\"\\nData types:\")\n",
    "print(df.dtypes)\n",
    "\n",
    "print(f\"\\nMissing values:\")\n",
    "print(df.isnull().sum())\n",
    "\n",
    "print(f\"\\nBasic statistics:\")\n",
    "df.describe()"
   ]
  },
  {
   "cell_type": "markdown",
   "id": "8c3ff224",
   "metadata": {},
   "source": [
    "## Class Distribution Analysis"
   ]
  },
  {
   "cell_type": "code",
   "execution_count": null,
   "id": "c8b14653",
   "metadata": {},
   "outputs": [],
   "source": [
    "# Analyze class distribution\n",
    "fraud_counts = df['isFraud'].value_counts()\n",
    "fraud_percentages = df['isFraud'].value_counts(normalize=True) * 100\n",
    "\n",
    "print(\"Class Distribution:\")\n",
    "print(f\"Legitimate transactions: {fraud_counts[0]:,} ({fraud_percentages[0]:.3f}%)\")\n",
    "print(f\"Fraudulent transactions: {fraud_counts[1]:,} ({fraud_percentages[1]:.3f}%)\")\n",
    "\n",
    "# Visualization\n",
    "fig, (ax1, ax2) = plt.subplots(1, 2, figsize=(15, 5))\n",
    "\n",
    "# Bar plot\n",
    "fraud_counts.plot(kind='bar', ax=ax1, color=['skyblue', 'red'])\n",
    "ax1.set_title('Class Distribution (Count)')\n",
    "ax1.set_xlabel('Is Fraud')\n",
    "ax1.set_ylabel('Count')\n",
    "ax1.set_xticklabels(['Legitimate', 'Fraud'], rotation=0)\n",
    "\n",
    "# Pie chart\n",
    "ax2.pie(fraud_counts.values, labels=['Legitimate', 'Fraud'], \n",
    "        autopct='%1.3f%%', colors=['skyblue', 'red'])\n",
    "ax2.set_title('Class Distribution (Percentage)')\n",
    "\n",
    "plt.tight_layout()\n",
    "plt.show()"
   ]
  },
  {
   "cell_type": "markdown",
   "id": "2c0c7e27",
   "metadata": {},
   "source": [
    "## Transaction Type Analysis"
   ]
  },
  {
   "cell_type": "code",
   "execution_count": null,
   "id": "621f3135",
   "metadata": {},
   "outputs": [],
   "source": [
    "# Transaction type distribution\n",
    "type_counts = df['type'].value_counts()\n",
    "print(\"Transaction Type Distribution:\")\n",
    "print(type_counts)\n",
    "\n",
    "# Transaction type vs fraud\n",
    "type_fraud = pd.crosstab(df['type'], df['isFraud'], normalize='index') * 100\n",
    "print(\"\\nFraud Rate by Transaction Type:\")\n",
    "print(type_fraud)\n",
    "\n",
    "# Visualization\n",
    "fig, (ax1, ax2) = plt.subplots(1, 2, figsize=(15, 6))\n",
    "\n",
    "# Transaction type distribution\n",
    "type_counts.plot(kind='bar', ax=ax1)\n",
    "ax1.set_title('Transaction Type Distribution')\n",
    "ax1.set_xlabel('Transaction Type')\n",
    "ax1.set_ylabel('Count')\n",
    "ax1.tick_params(axis='x', rotation=45)\n",
    "\n",
    "# Fraud rate by transaction type\n",
    "type_fraud[1].plot(kind='bar', ax=ax2, color='red')\n",
    "ax2.set_title('Fraud Rate by Transaction Type')\n",
    "ax2.set_xlabel('Transaction Type')\n",
    "ax2.set_ylabel('Fraud Rate (%)')\n",
    "ax2.tick_params(axis='x', rotation=45)\n",
    "\n",
    "plt.tight_layout()\n",
    "plt.show()"
   ]
  },
  {
   "cell_type": "markdown",
   "id": "40c39d0c",
   "metadata": {},
   "source": [
    "## Amount Analysis"
   ]
  },
  {
   "cell_type": "code",
   "execution_count": null,
   "id": "8d2654f4",
   "metadata": {},
   "outputs": [],
   "source": [
    "# Amount statistics by fraud class\n",
    "amount_stats = df.groupby('isFraud')['amount'].describe()\n",
    "print(\"Amount Statistics by Fraud Class:\")\n",
    "print(amount_stats)\n",
    "\n",
    "# Visualization\n",
    "fig, axes = plt.subplots(2, 2, figsize=(15, 10))\n",
    "\n",
    "# Amount distribution\n",
    "df['amount'].hist(bins=50, ax=axes[0,0], alpha=0.7)\n",
    "axes[0,0].set_title('Amount Distribution (All Transactions)')\n",
    "axes[0,0].set_xlabel('Amount')\n",
    "axes[0,0].set_ylabel('Frequency')\n",
    "\n",
    "# Amount by fraud class\n",
    "df[df['isFraud']==0]['amount'].hist(bins=50, ax=axes[0,1], alpha=0.7, label='Legitimate', color='blue')\n",
    "df[df['isFraud']==1]['amount'].hist(bins=50, ax=axes[0,1], alpha=0.7, label='Fraud', color='red')\n",
    "axes[0,1].set_title('Amount Distribution by Fraud Class')\n",
    "axes[0,1].set_xlabel('Amount')\n",
    "axes[0,1].set_ylabel('Frequency')\n",
    "axes[0,1].legend()\n",
    "\n",
    "# Box plot\n",
    "df.boxplot(column='amount', by='isFraud', ax=axes[1,0])\n",
    "axes[1,0].set_title('Amount Distribution by Fraud Class (Box Plot)')\n",
    "axes[1,0].set_xlabel('Is Fraud')\n",
    "axes[1,0].set_ylabel('Amount')\n",
    "\n",
    "# Log scale amount\n",
    "df['log_amount'] = np.log1p(df['amount'])\n",
    "df[df['isFraud']==0]['log_amount'].hist(bins=50, ax=axes[1,1], alpha=0.7, label='Legitimate', color='blue')\n",
    "df[df['isFraud']==1]['log_amount'].hist(bins=50, ax=axes[1,1], alpha=0.7, label='Fraud', color='red')\n",
    "axes[1,1].set_title('Log Amount Distribution by Fraud Class')\n",
    "axes[1,1].set_xlabel('Log(Amount + 1)')\n",
    "axes[1,1].set_ylabel('Frequency')\n",
    "axes[1,1].legend()\n",
    "\n",
    "plt.tight_layout()\n",
    "plt.show()"
   ]
  },
  {
   "cell_type": "markdown",
   "id": "e4f64a5e",
   "metadata": {},
   "source": [
    "## Balance Analysis"
   ]
  },
  {
   "cell_type": "code",
   "execution_count": null,
   "id": "d2fb7a0f",
   "metadata": {},
   "outputs": [],
   "source": [
    "# Balance analysis\n",
    "balance_cols = ['oldbalanceOrg', 'newbalanceOrig', 'oldbalanceDest', 'newbalanceDest']\n",
    "\n",
    "print(\"Balance Statistics:\")\n",
    "for col in balance_cols:\n",
    "    print(f\"\\n{col}:\")\n",
    "    print(df.groupby('isFraud')[col].describe())\n",
    "\n",
    "# Create balance difference features\n",
    "df['balance_diff_orig'] = df['oldbalanceOrg'] - df['newbalanceOrig']\n",
    "df['balance_diff_dest'] = df['newbalanceDest'] - df['oldbalanceDest']\n",
    "\n",
    "# Visualization\n",
    "fig, axes = plt.subplots(2, 2, figsize=(15, 10))\n",
    "\n",
    "# Original balance difference\n",
    "df[df['isFraud']==0]['balance_diff_orig'].hist(bins=50, ax=axes[0,0], alpha=0.7, label='Legitimate', color='blue')\n",
    "df[df['isFraud']==1]['balance_diff_orig'].hist(bins=50, ax=axes[0,0], alpha=0.7, label='Fraud', color='red')\n",
    "axes[0,0].set_title('Origin Balance Difference')\n",
    "axes[0,0].set_xlabel('Balance Difference')\n",
    "axes[0,0].legend()\n",
    "\n",
    "# Destination balance difference\n",
    "df[df['isFraud']==0]['balance_diff_dest'].hist(bins=50, ax=axes[0,1], alpha=0.7, label='Legitimate', color='blue')\n",
    "df[df['isFraud']==1]['balance_diff_dest'].hist(bins=50, ax=axes[0,1], alpha=0.7, label='Fraud', color='red')\n",
    "axes[0,1].set_title('Destination Balance Difference')\n",
    "axes[0,1].set_xlabel('Balance Difference')\n",
    "axes[0,1].legend()\n",
    "\n",
    "# Correlation heatmap of numerical features\n",
    "numerical_cols = ['step', 'amount', 'oldbalanceOrg', 'newbalanceOrig', \n",
    "                  'oldbalanceDest', 'newbalanceDest', 'isFraud']\n",
    "correlation_matrix = df[numerical_cols].corr()\n",
    "\n",
    "sns.heatmap(correlation_matrix, annot=True, cmap='coolwarm', center=0, ax=axes[1,0])\n",
    "axes[1,0].set_title('Correlation Matrix')\n",
    "\n",
    "# Feature importance visualization (correlation with target)\n",
    "feature_corr = df[numerical_cols].corrwith(df['isFraud']).abs().sort_values(ascending=True)\n",
    "feature_corr.plot(kind='barh', ax=axes[1,1])\n",
    "axes[1,1].set_title('Feature Correlation with Fraud')\n",
    "axes[1,1].set_xlabel('Absolute Correlation')\n",
    "\n",
    "plt.tight_layout()\n",
    "plt.show()"
   ]
  },
  {
   "cell_type": "markdown",
   "id": "4240134a",
   "metadata": {},
   "source": [
    "## Key Insights and Summary"
   ]
  },
  {
   "cell_type": "code",
   "execution_count": null,
   "id": "ff85c2ac",
   "metadata": {},
   "outputs": [],
   "source": [
    "# Summary statistics\n",
    "total_transactions = len(df)\n",
    "fraud_transactions = df['isFraud'].sum()\n",
    "fraud_rate = fraud_transactions / total_transactions * 100\n",
    "\n",
    "print(\"=\" * 50)\n",
    "print(\"KEY INSIGHTS FROM EXPLORATORY DATA ANALYSIS\")\n",
    "print(\"=\" * 50)\n",
    "\n",
    "print(f\"\\n1. DATASET OVERVIEW:\")\n",
    "print(f\"   - Total transactions: {total_transactions:,}\")\n",
    "print(f\"   - Fraudulent transactions: {fraud_transactions:,}\")\n",
    "print(f\"   - Fraud rate: {fraud_rate:.3f}%\")\n",
    "print(f\"   - Features: {len(df.columns)}\")\n",
    "\n",
    "print(f\"\\n2. CLASS IMBALANCE:\")\n",
    "print(f\"   - Highly imbalanced dataset\")\n",
    "print(f\"   - Fraud cases represent less than 1% of all transactions\")\n",
    "print(f\"   - Will require special handling (SMOTE, class weights, etc.)\")\n",
    "\n",
    "print(f\"\\n3. TRANSACTION TYPES:\")\n",
    "transaction_types = df['type'].unique()\n",
    "print(f\"   - Types available: {', '.join(transaction_types)}\")\n",
    "fraud_by_type = df.groupby('type')['isFraud'].mean() * 100\n",
    "highest_fraud_type = fraud_by_type.idxmax()\n",
    "print(f\"   - Highest fraud rate in: {highest_fraud_type} ({fraud_by_type[highest_fraud_type]:.3f}%)\")\n",
    "\n",
    "print(f\"\\n4. AMOUNT PATTERNS:\")\n",
    "fraud_amount_mean = df[df['isFraud']==1]['amount'].mean()\n",
    "legit_amount_mean = df[df['isFraud']==0]['amount'].mean()\n",
    "print(f\"   - Average fraud amount: ${fraud_amount_mean:,.2f}\")\n",
    "print(f\"   - Average legitimate amount: ${legit_amount_mean:,.2f}\")\n",
    "\n",
    "print(f\"\\n5. RECOMMENDATIONS FOR MODELING:\")\n",
    "print(f\"   - Use SMOTE or other resampling techniques for class imbalance\")\n",
    "print(f\"   - Focus on transaction type as important feature\")\n",
    "print(f\"   - Consider balance difference features\")\n",
    "print(f\"   - Use ensemble methods for better performance\")\n",
    "print(f\"   - Prioritize recall (catching fraud) over precision\")\n",
    "\n",
    "print(f\"\\n\" + \"=\"*50)\n",
    "print(\"EDA COMPLETED - Ready for preprocessing phase\")\n",
    "print(\"=\"*50)"
   ]
  }
 ],
 "metadata": {
  "language_info": {
   "name": "python"
  }
 },
 "nbformat": 4,
 "nbformat_minor": 5
}
